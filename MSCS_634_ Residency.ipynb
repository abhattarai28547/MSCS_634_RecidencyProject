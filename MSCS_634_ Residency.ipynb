{
 "cells": [
  {
   "cell_type": "markdown",
   "id": "c8b68bf0",
   "metadata": {},
   "source": [
    "# Multiple Regression and Regularization Techniques\n",
    "## Lab Assignment 4: Multiple Regression with Regularization Methods\n",
    "### Name: Roshan Acharya\n",
    "### Course: # MSCS 634: Data Science and Machine Learning\n"
   ]
  },
  {
   "cell_type": "code",
   "id": "a81009e0",
   "metadata": {
    "ExecuteTime": {
     "end_time": "2025-07-11T22:37:13.659722Z",
     "start_time": "2025-07-11T22:37:13.483922Z"
    }
   },
   "source": [
    "import numpy as np\n",
    "import pandas as pd\n",
    "import matplotlib.pyplot as plt\n",
    "import seaborn as sns\n",
    "from sklearn.model_selection import train_test_split\n",
    "from sklearn.linear_model import LinearRegression, Ridge, Lasso\n",
    "from sklearn.preprocessing import PolynomialFeatures, StandardScaler\n",
    "from sklearn.metrics import mean_absolute_error, mean_squared_error, r2_score\n",
    "from sklearn.pipeline import Pipeline\n",
    "import warnings\n",
    "warnings.filterwarnings('ignore')"
   ],
   "outputs": [],
   "execution_count": 2
  },
  {
   "cell_type": "markdown",
   "id": "827a4df7",
   "metadata": {},
   "source": [
    "### Set style for better plots"
   ]
  },
  {
   "cell_type": "code",
   "id": "f6f4a038",
   "metadata": {
    "ExecuteTime": {
     "end_time": "2025-07-11T22:37:20.904760Z",
     "start_time": "2025-07-11T22:37:20.901760Z"
    }
   },
   "source": [
    "plt.style.use('seaborn-v0_8')\n",
    "sns.set_palette(\"husl\")\n"
   ],
   "outputs": [],
   "execution_count": 3
  },
  {
   "cell_type": "markdown",
   "id": "3536fa33",
   "metadata": {},
   "source": [
    "## Step 1: Load and Prepare the Dataset"
   ]
  },
  {
   "cell_type": "code",
   "id": "f64821c4",
   "metadata": {
    "ExecuteTime": {
     "end_time": "2025-07-11T22:38:03.619697Z",
     "start_time": "2025-07-11T22:38:03.604760Z"
    }
   },
   "source": [
    "# Load the dataset\n",
    "df = pd.read_csv('Data/mobile.csv')\n",
    "# Display the first five rows\n",
    "print(df.head())"
   ],
   "outputs": [
    {
     "name": "stdout",
     "output_type": "stream",
     "text": [
      "                  Name  Spec Score  rating  price  \\\n",
      "0  OPPO Reno 14 Pro 5G          89    4.65  41990   \n",
      "1      OPPO Reno 14 5G          87    4.75  32990   \n",
      "2           Poco F7 5G          83    4.75  31999   \n",
      "3         Vivo X200 FE          89    4.65  49990   \n",
      "4         OPPO K13x 5G          73    4.20  11999   \n",
      "\n",
      "                                                 img       tag  \\\n",
      "0  https://cdn1.smartprix.com/rx-is822PXo3-w280-h...  UPCOMING   \n",
      "1  https://cdn1.smartprix.com/rx-iRGgfcGDH-w280-h...  UPCOMING   \n",
      "2  https://cdn1.smartprix.com/rx-icmgBU9Q2-w280-h...  LAUNCHED   \n",
      "3  https://cdn1.smartprix.com/rx-iHI7IaQgQ-w280-h...  UPCOMING   \n",
      "4  https://cdn1.smartprix.com/rx-iXUulomIY-w280-h...  LAUNCHED   \n",
      "\n",
      "                                                 sim  \\\n",
      "0  Dual Sim, 3G, 4G, 5G, VoLTE, Wi-Fi, NFC, IR Bl...   \n",
      "1  Dual Sim, 3G, 4G, 5G, VoLTE, Wi-Fi, NFC, IR Bl...   \n",
      "2  Dual Sim, 3G, 4G, 5G, VoLTE, Wi-Fi, NFC, IR Bl...   \n",
      "3  Dual Sim, 3G, 4G, 5G, VoLTE, Wi-Fi, NFC, IR Bl...   \n",
      "4                 Dual Sim, 3G, 4G, 5G, VoLTE, Wi-Fi   \n",
      "\n",
      "                                           processor  \\\n",
      "0      Dimensity 8450, Octa Core, 3.25 GHz Processor   \n",
      "1      Dimensity 8350, Octa Core, 3.35 GHz Processor   \n",
      "2   Snapdragon 8s Gen4, Octa Core, 3.2 GHz Processor   \n",
      "3  Dimensity 9300 Plus, Octa Core, 3.25 GHz Proce...   \n",
      "4       Dimensity 6300, Octa Core, 2.4 GHz Processor   \n",
      "\n",
      "                     storage                                  battery  \\\n",
      "0  12 GB RAM, 256 GB inbuilt  6200 mAh Battery with 80W Fast Charging   \n",
      "1   8 GB RAM, 256 GB inbuilt  6000 mAh Battery with 80W Fast Charging   \n",
      "2  12 GB RAM, 256 GB inbuilt  7550 mAh Battery with 90W Fast Charging   \n",
      "3  12 GB RAM, 256 GB inbuilt  6500 mAh Battery with 90W Fast Charging   \n",
      "4   4 GB RAM, 128 GB inbuilt  6000 mAh Battery with 45W Fast Charging   \n",
      "\n",
      "                                             display  \\\n",
      "0  6.83 inches, 1272 x 2800 px, 120 Hz Display wi...   \n",
      "1  6.59 inches, 1256 x 2760 px, 120 Hz Display wi...   \n",
      "2  6.83 inches, 1280 x 2772 px, 120 Hz Display wi...   \n",
      "3  6.31 inches, 1216 x 2640 px, 120 Hz Display wi...   \n",
      "4  6.67 inches, 720 x 1604 px, 120 Hz Display wit...   \n",
      "\n",
      "                                              camera  \\\n",
      "0  50 MP + 50 MP + 50 MP Triple Rear & 50 MP Fron...   \n",
      "1  50 MP + 50 MP + 8 MP Triple Rear & 50 MP Front...   \n",
      "2        50 MP + 8 MP Dual Rear & 20 MP Front Camera   \n",
      "3  50 MP + 50 MP + 8 MP Triple Rear & 50 MP Front...   \n",
      "4         50 MP + 2 MP Dual Rear & 8 MP Front Camera   \n",
      "\n",
      "                     memoryExternal      version           fm  \n",
      "0                               NaN  Android v15  No FM Radio  \n",
      "1                               NaN  Android v15  No FM Radio  \n",
      "2         Memory Card Not Supported  Android v15          NaN  \n",
      "3         Memory Card Not Supported  Android v15          NaN  \n",
      "4  Memory Card Supported, upto 2 TB  Android v15          NaN  \n"
     ]
    }
   ],
   "execution_count": 5
  }
 ],
 "metadata": {
  "kernelspec": {
   "display_name": "Python 3",
   "language": "python",
   "name": "python3"
  },
  "language_info": {
   "codemirror_mode": {
    "name": "ipython",
    "version": 3
   },
   "file_extension": ".py",
   "mimetype": "text/x-python",
   "name": "python",
   "nbconvert_exporter": "python",
   "pygments_lexer": "ipython3",
   "version": "3.9.6"
  }
 },
 "nbformat": 4,
 "nbformat_minor": 5
}
